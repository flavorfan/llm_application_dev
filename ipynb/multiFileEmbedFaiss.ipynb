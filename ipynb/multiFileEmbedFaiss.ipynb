{
  "nbformat": 4,
  "nbformat_minor": 0,
  "metadata": {
    "colab": {
      "provenance": []
    },
    "kernelspec": {
      "name": "python3",
      "display_name": "Python 3"
    },
    "language_info": {
      "name": "python"
    }
  },
  "cells": [
    {
      "cell_type": "code",
      "execution_count": 78,
      "metadata": {
        "id": "YViHgo6MePAw"
      },
      "outputs": [],
      "source": [
        "!pip install langchain faiss-cpu pypdf GitPython openpyxl sentence-transformers transformers llama-cpp-python > /dev/null"
      ]
    },
    {
      "cell_type": "markdown",
      "source": [
        "### Notebook shows how the multiple file types can be loaded into FAISS Index (open source)\n",
        "\n",
        "The embedding used will be again open source sentence-transformers encoders\n",
        "\n",
        "**All Files are Converted to Text**\n",
        "\n",
        "1) Simple Text file ,json and other pure text formats\n",
        "\n",
        "2) tsv, csv files that are structured\n",
        "\n",
        "3) PDF File\n",
        "\n",
        "4) Excel File \n",
        "\n",
        "5) Jupyter notebook Files\n",
        "\n",
        "6) Code files"
      ],
      "metadata": {
        "id": "Ldto63mkgE_Q"
      }
    },
    {
      "cell_type": "markdown",
      "source": [
        "### Libraries Involved\n",
        "\n",
        "langchain \n",
        "\n",
        "faiss-cpu \n",
        "\n",
        "pypdf \n",
        "\n",
        "GitPython \n",
        "\n",
        "openpyxl \n",
        "\n",
        "sentence-transformers"
      ],
      "metadata": {
        "id": "N11yW9aO7pC1"
      }
    },
    {
      "cell_type": "code",
      "source": [
        "from langchain.embeddings import (\n",
        "    LlamaCppEmbeddings, \n",
        "    HuggingFaceEmbeddings, \n",
        "    SentenceTransformerEmbeddings\n",
        ")\n",
        "\n",
        "from langchain.text_splitter import RecursiveCharacterTextSplitter\n",
        "\n",
        "from langchain.vectorstores import FAISS\n",
        "from langchain.document_loaders.csv_loader import CSVLoader\n",
        "from langchain.document_loaders import (\n",
        "    PyPDFLoader,\n",
        "    DataFrameLoader,\n",
        "    GitLoader\n",
        "  )\n",
        "import pandas as pd\n",
        "import nbformat\n",
        "from nbconvert import PythonExporter\n",
        "import os"
      ],
      "metadata": {
        "id": "8ZQYHkJsfhB2"
      },
      "execution_count": 113,
      "outputs": []
    },
    {
      "cell_type": "code",
      "source": [
        "def get_text_splits(text_file):\n",
        "  \"\"\"Function takes in the text data and returns the  \n",
        "  splits so for further processing can be done.\"\"\"\n",
        "  with open(text_file,'r') as txt:\n",
        "    data = txt.read()\n",
        "\n",
        "  textSplit = RecursiveCharacterTextSplitter(chunk_size=150,\n",
        "                                             chunk_overlap=15,\n",
        "                                             length_function=len)\n",
        "  doc_list = textSplit.split_text(data)\n",
        "  return doc_list"
      ],
      "metadata": {
        "id": "NxlQYYPofhHu"
      },
      "execution_count": 14,
      "outputs": []
    },
    {
      "cell_type": "code",
      "source": [
        "loader = PyPDFLoader(\"/content/self-ask.pdf\")\n",
        "pages = loader.load_and_split()"
      ],
      "metadata": {
        "id": "RZEfQ0uZU6rM"
      },
      "execution_count": 41,
      "outputs": []
    },
    {
      "cell_type": "code",
      "source": [
        "len(pages)"
      ],
      "metadata": {
        "colab": {
          "base_uri": "https://localhost:8080/",
          "height": 0
        },
        "id": "0zPYR-4eU9Nm",
        "outputId": "d2d986f6-be25-45db-8e3d-59766da0d89f"
      },
      "execution_count": 46,
      "outputs": [
        {
          "output_type": "execute_result",
          "data": {
            "text/plain": [
              "31"
            ]
          },
          "metadata": {},
          "execution_count": 46
        }
      ]
    },
    {
      "cell_type": "code",
      "source": [
        "pages[0].page_content"
      ],
      "metadata": {
        "id": "PjvmCatcB5Q4"
      },
      "execution_count": null,
      "outputs": []
    },
    {
      "cell_type": "code",
      "source": [
        "def get_pdf_splits(pdf_file):\n",
        "  \"\"\"Function takes in the pdf data and returns the  \n",
        "  splits so for further processing can be done.\"\"\"\n",
        "  \n",
        "  loader = PyPDFLoader(pdf_file)\n",
        "  pages = loader.load_and_split()  \n",
        "\n",
        "  textSplit = RecursiveCharacterTextSplitter(chunk_size=150,\n",
        "                                             chunk_overlap=15,\n",
        "                                             length_function=len)\n",
        "  doc_list = []\n",
        "  #Pages will be list of pages, so need to modify the loop\n",
        "  for pg in pages:\n",
        "    pg_splits = textSplit.split_text(pg.page_content)\n",
        "    doc_list.extend(pg_splits)\n",
        "\n",
        "  return doc_list"
      ],
      "metadata": {
        "id": "ByPDVhxjSq5D"
      },
      "execution_count": 47,
      "outputs": []
    },
    {
      "cell_type": "code",
      "source": [
        "def get_excel_splits(excel_file,target_col,sheet_name):\n",
        "  trialDF = pd.read_excel(io=excel_file,\n",
        "                          engine='openpyxl',\n",
        "                          sheet_name=sheet_name)\n",
        "  \n",
        "  df_loader = DataFrameLoader(trialDF,\n",
        "                              page_content_column=target_col)\n",
        "  \n",
        "  excel_docs = df_loader.load()\n",
        "\n",
        "  return excel_docs"
      ],
      "metadata": {
        "id": "xRHjX6QZu2nh"
      },
      "execution_count": 112,
      "outputs": []
    },
    {
      "cell_type": "code",
      "source": [
        "def get_csv_splits(csv_file):\n",
        "  \"\"\"Function takes in the csv and returns the  \n",
        "  splits so for further processing can be done.\"\"\"\n",
        "  csvLoader = CSVLoader(csv_file)\n",
        "  csvdocs = csvLoader.load()\n",
        "  return csvdocs"
      ],
      "metadata": {
        "id": "tLf2mDZNYTck"
      },
      "execution_count": 65,
      "outputs": []
    },
    {
      "cell_type": "code",
      "source": [
        "def get_ipynb_splits(notebook):\n",
        "  \"\"\"Function takes the notebook file,reads the file \n",
        "  data as python script, then splits script data directly\"\"\"\n",
        "\n",
        "  with open(notebook) as fh:\n",
        "    nb = nbformat.reads(fh.read(), nbformat.NO_CONVERT)\n",
        "\n",
        "  exporter = PythonExporter()\n",
        "  source, meta = exporter.from_notebook_node(nb)\n",
        "\n",
        "  #Python file data is in the source variable\n",
        "  \n",
        "  textSplit = RecursiveCharacterTextSplitter(chunk_size=150,\n",
        "                                             chunk_overlap=15,\n",
        "                                             length_function=len)\n",
        "  doc_list = textSplit.split_text(source)\n",
        "  return doc_list  "
      ],
      "metadata": {
        "id": "UAHzS97wihQZ"
      },
      "execution_count": 107,
      "outputs": []
    },
    {
      "cell_type": "code",
      "source": [
        "def get_git_files(repo_link, folder_path, file_ext):\n",
        "  # eg. loading only python files\n",
        "  git_loader = GitLoader(clone_url=repo_link,\n",
        "    repo_path=folder_path, \n",
        "    file_filter=lambda file_path: file_path.endswith(file_ext))\n",
        "  #Will take each file individual document\n",
        "  git_docs = git_loader.load()\n",
        "\n",
        "  textSplit = RecursiveCharacterTextSplitter(chunk_size=150,\n",
        "                                             chunk_overlap=15,\n",
        "                                             length_function=len)\n",
        "  doc_list = []\n",
        "  #Pages will be list of pages, so need to modify the loop\n",
        "  for code in git_docs:\n",
        "    code_splits = textSplit.split_text(code.page_content)\n",
        "    doc_list.extend(code_splits)\n",
        "\n",
        "  return doc_list\n",
        "  "
      ],
      "metadata": {
        "id": "p82oVcI5cNoN"
      },
      "execution_count": 82,
      "outputs": []
    },
    {
      "cell_type": "code",
      "source": [
        "def embed_index(doc_list, embed_fn, index_store):\n",
        "  \"\"\"Function takes in existing vector_store, \n",
        "  new doc_list and embedding function that is \n",
        "  initialized on appropriate model. Local or online. \n",
        "  New embedding is merged with the existing index. If no \n",
        "  index given a new one is created\"\"\"\n",
        "  #check whether the doc_list is documents, or text\n",
        "  try:\n",
        "    faiss_db = FAISS.from_documents(doc_list, \n",
        "                              embed_fn)  \n",
        "  except Exception as e:\n",
        "    faiss_db = FAISS.from_texts(doc_list, \n",
        "                              embed_fn)\n",
        "  \n",
        "  if os.path.exists(index_store):\n",
        "    local_db = FAISS.load_local(index_store,embed_fn)\n",
        "    #merging the new embedding with the existing index store\n",
        "    local_db.merge_from(faiss_db)\n",
        "    print(\"Merge completed\")\n",
        "    local_db.save_local(index_store)\n",
        "    print(\"Updated index saved\")\n",
        "  else:\n",
        "    faiss_db.save_local(folder_path=index_store)\n",
        "    print(\"New store created...\")\n"
      ],
      "metadata": {
        "id": "neJ7r2dh56-k"
      },
      "execution_count": 84,
      "outputs": []
    },
    {
      "cell_type": "code",
      "source": [
        "def get_docs_length(index_path, embed_fn):\n",
        "  test_index = FAISS.load_local(index_path,\n",
        "                              embeddings=embed_fn)\n",
        "  test_dict = test_index.docstore._dict\n",
        "  return len(test_dict.values())  "
      ],
      "metadata": {
        "id": "qYEkmsI-Vep4"
      },
      "execution_count": 50,
      "outputs": []
    },
    {
      "cell_type": "code",
      "source": [
        "!rm -fR /content/mail_index"
      ],
      "metadata": {
        "id": "khxmvg0HSTs_"
      },
      "execution_count": 29,
      "outputs": []
    },
    {
      "cell_type": "code",
      "source": [
        "#testing out the above function with the open source \n",
        "embeddings = HuggingFaceEmbeddings(model_name=\"all-MiniLM-L6-v2\")"
      ],
      "metadata": {
        "id": "J_6YveVa57EU"
      },
      "execution_count": null,
      "outputs": []
    },
    {
      "cell_type": "code",
      "source": [
        "mail_docs = get_text_splits(\"/content/mail_collector.txt\")"
      ],
      "metadata": {
        "id": "hNJ0ZDJb57Mk"
      },
      "execution_count": 15,
      "outputs": []
    },
    {
      "cell_type": "code",
      "source": [
        "len(mail_docs)"
      ],
      "metadata": {
        "colab": {
          "base_uri": "https://localhost:8080/",
          "height": 0
        },
        "id": "zErGqtjIRujY",
        "outputId": "c39313dd-99a4-41b8-adf5-617f12df707f"
      },
      "execution_count": 27,
      "outputs": [
        {
          "output_type": "execute_result",
          "data": {
            "text/plain": [
              "50"
            ]
          },
          "metadata": {},
          "execution_count": 27
        }
      ]
    },
    {
      "cell_type": "code",
      "source": [
        "mail_docs[0]"
      ],
      "metadata": {
        "colab": {
          "base_uri": "https://localhost:8080/",
          "height": 36
        },
        "id": "5m8R7Nq5HMy9",
        "outputId": "93e43df5-0569-43d8-866a-05784a67bc96"
      },
      "execution_count": 126,
      "outputs": [
        {
          "output_type": "execute_result",
          "data": {
            "text/plain": [
              "'Space via IFTTT <action@ifttt.com>\\nAstronomy Picture of the Day:'"
            ],
            "application/vnd.google.colaboratory.intrinsic+json": {
              "type": "string"
            }
          },
          "metadata": {},
          "execution_count": 126
        }
      ]
    },
    {
      "cell_type": "code",
      "source": [
        "embed_index(doc_list=mail_docs,\n",
        "            embed_fn=embeddings,\n",
        "            index_store='new_index')"
      ],
      "metadata": {
        "id": "qP_Cu29xfhMW",
        "colab": {
          "base_uri": "https://localhost:8080/"
        },
        "outputId": "24d2488a-4ecd-417b-9349-1681eca28b28"
      },
      "execution_count": 127,
      "outputs": [
        {
          "output_type": "stream",
          "name": "stdout",
          "text": [
            "New store created...\n"
          ]
        }
      ]
    },
    {
      "cell_type": "code",
      "source": [
        "get_docs_length(index_path='new_index',embed_fn=embeddings)"
      ],
      "metadata": {
        "colab": {
          "base_uri": "https://localhost:8080/"
        },
        "id": "44POWWvcHff5",
        "outputId": "3a5153bf-0c80-42c8-a61f-785807a038a3"
      },
      "execution_count": 135,
      "outputs": [
        {
          "output_type": "execute_result",
          "data": {
            "text/plain": [
              "72"
            ]
          },
          "metadata": {},
          "execution_count": 135
        }
      ]
    },
    {
      "cell_type": "code",
      "source": [
        "test_idex = FAISS.load_local(\"new_index\",embeddings)"
      ],
      "metadata": {
        "id": "tzcIK88kH3G_"
      },
      "execution_count": 129,
      "outputs": []
    },
    {
      "cell_type": "code",
      "source": [
        "test_idex.similarity_search(\"Stellar Nursery in Perseus\")"
      ],
      "metadata": {
        "colab": {
          "base_uri": "https://localhost:8080/"
        },
        "id": "xL8jKlAJH_YA",
        "outputId": "c13c9ca2-261a-4730-815a-dd426d20723e"
      },
      "execution_count": 132,
      "outputs": [
        {
          "output_type": "execute_result",
          "data": {
            "text/plain": [
              "[Document(page_content='Space via IFTTT <action@ifttt.com>\\nAstronomy Picture of the Day: NGC 1333: Stellar Nursery in Perseus', metadata={}),\n",
              " Document(page_content='by bluish hues characteristic of starlight reflected by interstellar dust. A mere 1,000 light-years distant toward the heroic constellation Perseus,', metadata={}),\n",
              " Document(page_content='2023-04-22 09:43:17+05:30NGC 1333: Stellar Nursery in PerseusIn visible light NGC 1333 is seen as a reflection nebula, dominated by bluish hues', metadata={}),\n",
              " Document(page_content=\"be similar to one in which our own Sun formed over 4.5 billion years ago. Hubble's stunning image of the stellar nursery was released to celebrate the\", metadata={})]"
            ]
          },
          "metadata": {},
          "execution_count": 132
        }
      ]
    },
    {
      "cell_type": "code",
      "source": [
        "vim_docs = get_text_splits(\"/content/vim_play.txt\")\n",
        "embed_index(doc_list=vim_docs,\n",
        "            embed_fn=embeddings,\n",
        "            index_store='new_index')"
      ],
      "metadata": {
        "id": "aYz9mhuVfhR6",
        "colab": {
          "base_uri": "https://localhost:8080/"
        },
        "outputId": "ca6fc86b-65e3-4951-d9e7-91d168f7f75a"
      },
      "execution_count": 133,
      "outputs": [
        {
          "output_type": "stream",
          "name": "stdout",
          "text": [
            "Merge completed\n",
            "Updated index saved\n"
          ]
        }
      ]
    },
    {
      "cell_type": "code",
      "source": [
        "len(vim_docs)"
      ],
      "metadata": {
        "colab": {
          "base_uri": "https://localhost:8080/"
        },
        "id": "2hRMaNYCSmYG",
        "outputId": "53855930-e908-4832-d636-c54a51a1b7d5"
      },
      "execution_count": 134,
      "outputs": [
        {
          "output_type": "execute_result",
          "data": {
            "text/plain": [
              "22"
            ]
          },
          "metadata": {},
          "execution_count": 134
        }
      ]
    },
    {
      "cell_type": "code",
      "source": [
        "pdf_docs = get_pdf_splits(\"/content/self-ask.pdf\")\n",
        "\n",
        "embed_index(doc_list=pdf_docs,\n",
        "            embed_fn=embeddings,\n",
        "            index_store='new_index')"
      ],
      "metadata": {
        "colab": {
          "base_uri": "https://localhost:8080/"
        },
        "id": "NvEsaUTrReEG",
        "outputId": "529ccb56-1690-4fbe-b166-00ea946f557b"
      },
      "execution_count": 136,
      "outputs": [
        {
          "output_type": "stream",
          "name": "stdout",
          "text": [
            "Merge completed\n",
            "Updated index saved\n"
          ]
        }
      ]
    },
    {
      "cell_type": "code",
      "source": [
        "len(pdf_docs)"
      ],
      "metadata": {
        "colab": {
          "base_uri": "https://localhost:8080/"
        },
        "id": "Yz0VA9y2WGxc",
        "outputId": "5c132276-0261-4aec-c742-207c7e5a3d68"
      },
      "execution_count": 137,
      "outputs": [
        {
          "output_type": "execute_result",
          "data": {
            "text/plain": [
              "760"
            ]
          },
          "metadata": {},
          "execution_count": 137
        }
      ]
    },
    {
      "cell_type": "code",
      "source": [
        "get_docs_length(index_path=\"new_index\",\n",
        "                embed_fn=embeddings)"
      ],
      "metadata": {
        "colab": {
          "base_uri": "https://localhost:8080/"
        },
        "id": "g9ONa2GVReI8",
        "outputId": "1b45be3e-ac41-41bf-da21-e97790a98ab8"
      },
      "execution_count": 138,
      "outputs": [
        {
          "output_type": "execute_result",
          "data": {
            "text/plain": [
              "832"
            ]
          },
          "metadata": {},
          "execution_count": 138
        }
      ]
    },
    {
      "cell_type": "code",
      "source": [
        "csv_docs = get_csv_splits(\"/content/space_shortened.csv\")\n",
        "\n",
        "embed_index(doc_list=csv_docs,\n",
        "            embed_fn=embeddings,\n",
        "            index_store='new_index')"
      ],
      "metadata": {
        "colab": {
          "base_uri": "https://localhost:8080/"
        },
        "id": "Nr_kvQ95ReNS",
        "outputId": "cc06ab52-521f-4694-cf82-c4c3ac640ca8"
      },
      "execution_count": 139,
      "outputs": [
        {
          "output_type": "stream",
          "name": "stdout",
          "text": [
            "Merge completed\n",
            "Updated index saved\n"
          ]
        }
      ]
    },
    {
      "cell_type": "code",
      "source": [
        "get_docs_length(index_path=\"new_index\",\n",
        "                embed_fn=embeddings)"
      ],
      "metadata": {
        "colab": {
          "base_uri": "https://localhost:8080/"
        },
        "id": "Bgv1Nck9Z38X",
        "outputId": "3749e635-6f03-4fe7-b822-8f99b1b932fc"
      },
      "execution_count": 142,
      "outputs": [
        {
          "output_type": "execute_result",
          "data": {
            "text/plain": [
              "848"
            ]
          },
          "metadata": {},
          "execution_count": 142
        }
      ]
    },
    {
      "cell_type": "code",
      "source": [
        "git_docs = get_git_files(repo_link=\"https://github.com/insightbuilder/python_de_learners_data\",\n",
        "                         folder_path=\"/code_script_notebooks/python_scripts/\",\n",
        "                         file_ext=\".py\")"
      ],
      "metadata": {
        "id": "zj_wAa1OfakG"
      },
      "execution_count": null,
      "outputs": []
    },
    {
      "cell_type": "code",
      "source": [
        "len(git_docs)"
      ],
      "metadata": {
        "colab": {
          "base_uri": "https://localhost:8080/"
        },
        "id": "7aGTMaAVfonb",
        "outputId": "c5393e76-a1d6-49e1-8fa4-cd2c81184274"
      },
      "execution_count": 88,
      "outputs": [
        {
          "output_type": "execute_result",
          "data": {
            "text/plain": [
              "331"
            ]
          },
          "metadata": {},
          "execution_count": 88
        }
      ]
    },
    {
      "cell_type": "code",
      "source": [
        "print(git_docs[0])"
      ],
      "metadata": {
        "colab": {
          "base_uri": "https://localhost:8080/"
        },
        "id": "MFvs0tLYJqK1",
        "outputId": "abe637ab-4561-4e07-dd25-c8b186642a65"
      },
      "execution_count": 146,
      "outputs": [
        {
          "output_type": "stream",
          "name": "stdout",
          "text": [
            "#!/usr/bin/env python\n",
            "\n",
            "def add_num(a, b):\n",
            "    return a + b\n",
            "\n",
            "def mul_num(a, b):\n",
            "    return a * b\n"
          ]
        }
      ]
    },
    {
      "cell_type": "code",
      "source": [
        "embed_index(doc_list=git_docs,\n",
        "            embed_fn=embeddings,\n",
        "            index_store='new_index')"
      ],
      "metadata": {
        "colab": {
          "base_uri": "https://localhost:8080/"
        },
        "id": "y-nt_MN6d6Nq",
        "outputId": "3b73b70c-779a-4aa9-ad38-3dea3db1945b"
      },
      "execution_count": 143,
      "outputs": [
        {
          "output_type": "stream",
          "name": "stdout",
          "text": [
            "Merge completed\n",
            "Updated index saved\n"
          ]
        }
      ]
    },
    {
      "cell_type": "code",
      "source": [
        "get_docs_length(index_path=\"new_index\",\n",
        "                embed_fn=embeddings)"
      ],
      "metadata": {
        "colab": {
          "base_uri": "https://localhost:8080/"
        },
        "id": "Wa--1TvTd6IQ",
        "outputId": "df8ef2bf-6f50-4bf6-900d-2795f45d765a"
      },
      "execution_count": 144,
      "outputs": [
        {
          "output_type": "execute_result",
          "data": {
            "text/plain": [
              "1179"
            ]
          },
          "metadata": {},
          "execution_count": 144
        }
      ]
    },
    {
      "cell_type": "code",
      "source": [
        "pynb_docs = get_ipynb_splits(\"/content/multiFileEmbedFaiss.ipynb\")"
      ],
      "metadata": {
        "id": "A8eDh-m3f3Km"
      },
      "execution_count": 109,
      "outputs": []
    },
    {
      "cell_type": "code",
      "source": [
        "embed_index(doc_list=pynb_docs,\n",
        "            embed_fn=embeddings,\n",
        "            index_store='mail_index')"
      ],
      "metadata": {
        "colab": {
          "base_uri": "https://localhost:8080/"
        },
        "id": "SEaXmeLnf3Ai",
        "outputId": "0670f9f8-43e6-4d8f-d632-09266bbad947"
      },
      "execution_count": 110,
      "outputs": [
        {
          "output_type": "stream",
          "name": "stdout",
          "text": [
            "Merge completed\n",
            "Updated index saved\n"
          ]
        }
      ]
    },
    {
      "cell_type": "code",
      "source": [
        "get_docs_length(index_path=\"new_index\",\n",
        "                embed_fn=embeddings)"
      ],
      "metadata": {
        "colab": {
          "base_uri": "https://localhost:8080/"
        },
        "id": "sijbRmf2f258",
        "outputId": "23300611-9965-4dc2-f4ad-e1f37bd0fd65"
      },
      "execution_count": 147,
      "outputs": [
        {
          "output_type": "execute_result",
          "data": {
            "text/plain": [
              "1179"
            ]
          },
          "metadata": {},
          "execution_count": 147
        }
      ]
    },
    {
      "cell_type": "code",
      "source": [
        "excel_docs = get_excel_splits(excel_file='/content/data_in_excel.xlsx',\n",
        "                 target_col='Customers',\n",
        "                 sheet_name='Database')"
      ],
      "metadata": {
        "id": "G8sqLiZNv_4k"
      },
      "execution_count": 114,
      "outputs": []
    },
    {
      "cell_type": "code",
      "source": [
        "excel_docs[0]"
      ],
      "metadata": {
        "colab": {
          "base_uri": "https://localhost:8080/"
        },
        "id": "6DQ5DDfiwqv0",
        "outputId": "381077b1-01e9-420f-a8cd-104f2d4f8123"
      },
      "execution_count": 115,
      "outputs": [
        {
          "output_type": "execute_result",
          "data": {
            "text/plain": [
              "Document(page_content='Bernard Weatherly', metadata={'Id': 1, 'Date': Timestamp('2019-01-01 00:00:00'), 'Gender': 'M', 'Sales Reps': 'timika poe', 'Drinks/Products': 'Heineken Bottle', 'Categories': ' Alcoholic Wine', 'Cost': 38250, 'Sals Price': 42500, 'Qty': 3})"
            ]
          },
          "metadata": {},
          "execution_count": 115
        }
      ]
    },
    {
      "cell_type": "code",
      "source": [
        "embed_index(doc_list=excel_docs,\n",
        "            embed_fn=embeddings,\n",
        "            index_store='mail_index')"
      ],
      "metadata": {
        "colab": {
          "base_uri": "https://localhost:8080/"
        },
        "id": "gX9PJKJbwwzV",
        "outputId": "4f9664ef-6e37-43c7-8eea-3f0a9ff5fc53"
      },
      "execution_count": 116,
      "outputs": [
        {
          "output_type": "stream",
          "name": "stdout",
          "text": [
            "Merge completed\n",
            "Updated index saved\n"
          ]
        }
      ]
    },
    {
      "cell_type": "code",
      "source": [
        "get_docs_length(index_path='mail_index',\n",
        "                embed_fn=embeddings)"
      ],
      "metadata": {
        "colab": {
          "base_uri": "https://localhost:8080/"
        },
        "id": "8Jjw93Scw7mZ",
        "outputId": "16c27c19-0572-42c9-ecc9-196076e71086"
      },
      "execution_count": 117,
      "outputs": [
        {
          "output_type": "execute_result",
          "data": {
            "text/plain": [
              "1925"
            ]
          },
          "metadata": {},
          "execution_count": 117
        }
      ]
    },
    {
      "cell_type": "code",
      "source": [
        "test_index = FAISS.load_local(folder_path='mail_index', \n",
        "                              embeddings=embeddings)"
      ],
      "metadata": {
        "id": "iOpwkQmd0QDg"
      },
      "execution_count": 120,
      "outputs": []
    },
    {
      "cell_type": "code",
      "source": [
        "test_index.similarity_search(\"Bernard\")"
      ],
      "metadata": {
        "colab": {
          "base_uri": "https://localhost:8080/"
        },
        "id": "7YvQ-ZR80rMQ",
        "outputId": "2f726728-d0b9-4002-fdf4-455e33934d93"
      },
      "execution_count": 148,
      "outputs": [
        {
          "output_type": "execute_result",
          "data": {
            "text/plain": [
              "[Document(page_content='Bernard Weatherly', metadata={'Id': 1, 'Date': Timestamp('2019-01-01 00:00:00'), 'Gender': 'M', 'Sales Reps': 'timika poe', 'Drinks/Products': 'Heineken Bottle', 'Categories': ' Alcoholic Wine', 'Cost': 38250, 'Sals Price': 42500, 'Qty': 3}),\n",
              " Document(page_content='Bernard Weatherly', metadata={'Id': 211, 'Date': Timestamp('2019-07-30 00:00:00'), 'Gender': 'M', 'Sales Reps': 'hyman irish', 'Drinks/Products': 'Hennessy V.S 70 Cl', 'Categories': ' Alcoholic Wine', 'Cost': 44550, 'Sals Price': 49500, 'Qty': 15}),\n",
              " Document(page_content='Bernard Weatherly', metadata={'Id': 467, 'Date': Timestamp('2020-04-11 00:00:00'), 'Gender': 'M', 'Sales Reps': 'zona otis', 'Drinks/Products': '5 Alive 1Ltr', 'Categories': 'Non Alcoholic ', 'Cost': 88200, 'Sals Price': 98000, 'Qty': 1}),\n",
              " Document(page_content='Julienne Merkel', metadata={'Id': 14, 'Date': Timestamp('2019-01-14 00:00:00'), 'Gender': 'F', 'Sales Reps': 'quentin kunz', 'Drinks/Products': 'Martell Vs Cognac 70Cl', 'Categories': ' Alcoholic Wine', 'Cost': 72900, 'Sals Price': 81000, 'Qty': 7})]"
            ]
          },
          "metadata": {},
          "execution_count": 148
        }
      ]
    },
    {
      "cell_type": "code",
      "source": [
        "test_index.similarity_search_with_relevance_scores(\"Bernard\")"
      ],
      "metadata": {
        "colab": {
          "base_uri": "https://localhost:8080/"
        },
        "id": "BvEkuJfb01fx",
        "outputId": "0c88b755-4674-4e04-84d6-f24ee527f88d"
      },
      "execution_count": 149,
      "outputs": [
        {
          "output_type": "execute_result",
          "data": {
            "text/plain": [
              "[(Document(page_content='Bernard Weatherly', metadata={'Id': 1, 'Date': Timestamp('2019-01-01 00:00:00'), 'Gender': 'M', 'Sales Reps': 'timika poe', 'Drinks/Products': 'Heineken Bottle', 'Categories': ' Alcoholic Wine', 'Cost': 38250, 'Sals Price': 42500, 'Qty': 3}),\n",
              "  0.5775781531777433),\n",
              " (Document(page_content='Bernard Weatherly', metadata={'Id': 211, 'Date': Timestamp('2019-07-30 00:00:00'), 'Gender': 'M', 'Sales Reps': 'hyman irish', 'Drinks/Products': 'Hennessy V.S 70 Cl', 'Categories': ' Alcoholic Wine', 'Cost': 44550, 'Sals Price': 49500, 'Qty': 15}),\n",
              "  0.5775781531777433),\n",
              " (Document(page_content='Bernard Weatherly', metadata={'Id': 467, 'Date': Timestamp('2020-04-11 00:00:00'), 'Gender': 'M', 'Sales Reps': 'zona otis', 'Drinks/Products': '5 Alive 1Ltr', 'Categories': 'Non Alcoholic ', 'Cost': 88200, 'Sals Price': 98000, 'Qty': 1}),\n",
              "  0.5775781531777433),\n",
              " (Document(page_content='Julienne Merkel', metadata={'Id': 14, 'Date': Timestamp('2019-01-14 00:00:00'), 'Gender': 'F', 'Sales Reps': 'quentin kunz', 'Drinks/Products': 'Martell Vs Cognac 70Cl', 'Categories': ' Alcoholic Wine', 'Cost': 72900, 'Sals Price': 81000, 'Qty': 7}),\n",
              "  0.24020965817483497)]"
            ]
          },
          "metadata": {},
          "execution_count": 149
        }
      ]
    }
  ]
}