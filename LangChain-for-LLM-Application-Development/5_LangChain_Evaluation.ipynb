{
  "nbformat": 4,
  "nbformat_minor": 0,
  "metadata": {
    "colab": {
      "provenance": []
    },
    "kernelspec": {
      "name": "python3",
      "display_name": "Python 3"
    },
    "language_info": {
      "name": "python"
    }
  },
  "cells": [
    {
      "cell_type": "markdown",
      "source": [
        "# LangChain: Evaluation\n",
        "\n",
        "## Outline:\n",
        "\n",
        "* Example generation\n",
        "* Manual evaluation (and debuging)\n",
        "* LLM-assisted evaluation"
      ],
      "metadata": {
        "id": "ZOeDcJm_B0Dw"
      }
    },
    {
      "cell_type": "code",
      "execution_count": null,
      "metadata": {
        "id": "TJa6045SBlBQ"
      },
      "outputs": [],
      "source": [
        "import os\n",
        "\n",
        "from dotenv import load_dotenv, find_dotenv\n",
        "_ = load_dotenv(find_dotenv()) # read local .env file"
      ]
    },
    {
      "cell_type": "markdown",
      "source": [
        "## Create our Q and A application"
      ],
      "metadata": {
        "id": "flOzPFeaB6T3"
      }
    },
    {
      "cell_type": "code",
      "source": [
        "from langchain.chains import RetrievalQA\n",
        "from langchain.chat_models import ChatOpenAI\n",
        "from langchain.document_loaders import CSVLoader\n",
        "from langchain.indexes import VectorstoreIndexCreator\n",
        "from langchain.vectorstores import DocArrayInMemorySearch"
      ],
      "metadata": {
        "id": "55lxR_UTB4pj"
      },
      "execution_count": null,
      "outputs": []
    },
    {
      "cell_type": "code",
      "source": [
        "file = 'OutdoorClothingCatalog_1000.csv'\n",
        "loader = CSVLoader(file_path=file)\n",
        "data = loader.load()"
      ],
      "metadata": {
        "id": "3NDEjOf2B_Qd"
      },
      "execution_count": null,
      "outputs": []
    },
    {
      "cell_type": "code",
      "source": [
        "index = VectorstoreIndexCreator(\n",
        "    vectorstore_cls=DocArrayInMemorySearch\n",
        ").from_loaders([loader])"
      ],
      "metadata": {
        "id": "Gwb6qJZ8CAvM"
      },
      "execution_count": null,
      "outputs": []
    },
    {
      "cell_type": "code",
      "source": [
        "llm = ChatOpenAI(temperature = 0.0)\n",
        "qa = RetrievalQA.from_chain_type(\n",
        "    llm=llm, \n",
        "    chain_type=\"stuff\", \n",
        "    retriever=index.vectorstore.as_retriever(), \n",
        "    verbose=True,\n",
        "    chain_type_kwargs = {\n",
        "        \"document_separator\": \"<<<<>>>>>\"\n",
        "    }\n",
        ")"
      ],
      "metadata": {
        "id": "hCmAGiUTCCIs"
      },
      "execution_count": null,
      "outputs": []
    },
    {
      "cell_type": "markdown",
      "source": [
        "### Coming up with test datapoints"
      ],
      "metadata": {
        "id": "g6kqDVryCFqI"
      }
    },
    {
      "cell_type": "code",
      "source": [
        "data[10]"
      ],
      "metadata": {
        "id": "Abti6ExiCGKi"
      },
      "execution_count": null,
      "outputs": []
    },
    {
      "cell_type": "code",
      "source": [
        "data[11]"
      ],
      "metadata": {
        "id": "qqw-10H5CIBv"
      },
      "execution_count": null,
      "outputs": []
    },
    {
      "cell_type": "markdown",
      "source": [
        "### Hard-coded examples"
      ],
      "metadata": {
        "id": "K66GyeJaCLgP"
      }
    },
    {
      "cell_type": "code",
      "source": [
        "examples = [\n",
        "    {\n",
        "        \"query\": \"Do the Cozy Comfort Pullover Set\\\n",
        "        have side pockets?\",\n",
        "        \"answer\": \"Yes\"\n",
        "    },\n",
        "    {\n",
        "        \"query\": \"What collection is the Ultra-Lofty \\\n",
        "        850 Stretch Down Hooded Jacket from?\",\n",
        "        \"answer\": \"The DownTek collection\"\n",
        "    }\n",
        "]"
      ],
      "metadata": {
        "id": "4NzINlgMCJbF"
      },
      "execution_count": null,
      "outputs": []
    },
    {
      "cell_type": "markdown",
      "source": [
        "### LLM-Generated examples"
      ],
      "metadata": {
        "id": "EPN310V4CPvl"
      }
    },
    {
      "cell_type": "code",
      "source": [
        "from langchain.evaluation.qa import QAGenerateChain"
      ],
      "metadata": {
        "id": "q7x2ymG-COCt"
      },
      "execution_count": null,
      "outputs": []
    },
    {
      "cell_type": "code",
      "source": [
        "example_gen_chain = QAGenerateChain.from_llm(ChatOpenAI())"
      ],
      "metadata": {
        "id": "e-cmcmj-CSbE"
      },
      "execution_count": null,
      "outputs": []
    },
    {
      "cell_type": "code",
      "source": [
        "new_examples = example_gen_chain.apply_and_parse(\n",
        "    [{\"doc\": t} for t in data[:5]]\n",
        ")"
      ],
      "metadata": {
        "id": "uVxyClPeCUIp"
      },
      "execution_count": null,
      "outputs": []
    },
    {
      "cell_type": "code",
      "source": [
        "new_examples[0]"
      ],
      "metadata": {
        "id": "48i7pozkCVoC"
      },
      "execution_count": null,
      "outputs": []
    },
    {
      "cell_type": "code",
      "source": [
        "data[0]"
      ],
      "metadata": {
        "id": "gk9uP2tqCYJP"
      },
      "execution_count": null,
      "outputs": []
    },
    {
      "cell_type": "markdown",
      "source": [
        "### Combine examples"
      ],
      "metadata": {
        "id": "XE03wPA_CaeY"
      }
    },
    {
      "cell_type": "code",
      "source": [
        "examples += new_examples"
      ],
      "metadata": {
        "id": "S0YOSDrhCa7L"
      },
      "execution_count": null,
      "outputs": []
    },
    {
      "cell_type": "code",
      "source": [
        "qa.run(examples[0][\"query\"])"
      ],
      "metadata": {
        "id": "3wEvW526CchO"
      },
      "execution_count": null,
      "outputs": []
    },
    {
      "cell_type": "markdown",
      "source": [
        "## Manual Evaluation"
      ],
      "metadata": {
        "id": "Xpvu9P6GCfRj"
      }
    },
    {
      "cell_type": "code",
      "source": [
        "import langchain\n",
        "langchain.debug = True"
      ],
      "metadata": {
        "id": "s3OL4oeQCfvt"
      },
      "execution_count": null,
      "outputs": []
    },
    {
      "cell_type": "code",
      "source": [
        "qa.run(examples[0][\"query\"])"
      ],
      "metadata": {
        "id": "w3tbn5cXChNh"
      },
      "execution_count": null,
      "outputs": []
    },
    {
      "cell_type": "code",
      "source": [
        "# Turn off the debug mode\n",
        "langchain.debug = False"
      ],
      "metadata": {
        "id": "xP6vHltEClQq"
      },
      "execution_count": null,
      "outputs": []
    },
    {
      "cell_type": "markdown",
      "source": [
        "## LLM assisted evaluation"
      ],
      "metadata": {
        "id": "C6ewaXc-CpRq"
      }
    },
    {
      "cell_type": "code",
      "source": [
        "predictions = qa.apply(examples)"
      ],
      "metadata": {
        "id": "ra102LPqCrop"
      },
      "execution_count": null,
      "outputs": []
    },
    {
      "cell_type": "code",
      "source": [
        "from langchain.evaluation.qa import QAEvalChain"
      ],
      "metadata": {
        "id": "nX5wYeyYCu2u"
      },
      "execution_count": null,
      "outputs": []
    },
    {
      "cell_type": "code",
      "source": [
        "llm = ChatOpenAI(temperature=0)\n",
        "eval_chain = QAEvalChain.from_llm(llm)"
      ],
      "metadata": {
        "id": "uWebkHSYCvmZ"
      },
      "execution_count": null,
      "outputs": []
    },
    {
      "cell_type": "code",
      "source": [
        "graded_outputs = eval_chain.evaluate(examples, predictions)"
      ],
      "metadata": {
        "id": "_tuCssL4Cy1z"
      },
      "execution_count": null,
      "outputs": []
    },
    {
      "cell_type": "code",
      "source": [
        "for i, eg in enumerate(examples):\n",
        "    print(f\"Example {i}:\")\n",
        "    print(\"Question: \" + predictions[i]['query'])\n",
        "    print(\"Real Answer: \" + predictions[i]['answer'])\n",
        "    print(\"Predicted Answer: \" + predictions[i]['result'])\n",
        "    print(\"Predicted Grade: \" + graded_outputs[i]['text'])\n",
        "    print()"
      ],
      "metadata": {
        "id": "V6FjLJDZC0kq"
      },
      "execution_count": null,
      "outputs": []
    }
  ]
}